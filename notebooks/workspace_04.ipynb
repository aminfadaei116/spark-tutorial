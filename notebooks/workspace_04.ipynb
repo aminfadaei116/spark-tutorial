{
 "cells": [
  {
   "cell_type": "markdown",
   "id": "077367dd-1a06-4115-a327-7ff25547e6fe",
   "metadata": {},
   "source": [
    "# Pyspark Dataframes\n",
    "- Filter Operations\n",
    "- Specific operation (e.g., & || == ~)"
   ]
  },
  {
   "cell_type": "code",
   "execution_count": 1,
   "id": "cc354466-bee0-4d75-aaf8-1c666797f815",
   "metadata": {},
   "outputs": [],
   "source": [
    "import pyspark\n",
    "import pandas as pd\n",
    "from pyspark.sql import SparkSession"
   ]
  },
  {
   "cell_type": "code",
   "execution_count": 2,
   "id": "bceb45f6-8de9-413a-b878-c76a0e544044",
   "metadata": {},
   "outputs": [],
   "source": [
    "pizza_dataset_path = \"../datasets/pizza_sales/order_details.csv\""
   ]
  },
  {
   "cell_type": "code",
   "execution_count": 3,
   "id": "d81f046d-8415-4c30-bece-59b0a8443fcf",
   "metadata": {},
   "outputs": [
    {
     "data": {
      "text/html": [
       "\n",
       "            <div>\n",
       "                <p><b>SparkSession - in-memory</b></p>\n",
       "                \n",
       "        <div>\n",
       "            <p><b>SparkContext</b></p>\n",
       "\n",
       "            <p><a href=\"http://DESKTOP-1KI60Q1.mshome.net:4040\">Spark UI</a></p>\n",
       "\n",
       "            <dl>\n",
       "              <dt>Version</dt>\n",
       "                <dd><code>v3.5.1</code></dd>\n",
       "              <dt>Master</dt>\n",
       "                <dd><code>local[*]</code></dd>\n",
       "              <dt>AppName</dt>\n",
       "                <dd><code>Learning Spark</code></dd>\n",
       "            </dl>\n",
       "        </div>\n",
       "        \n",
       "            </div>\n",
       "        "
      ],
      "text/plain": [
       "<pyspark.sql.session.SparkSession at 0x1ba85d215d0>"
      ]
     },
     "execution_count": 3,
     "metadata": {},
     "output_type": "execute_result"
    }
   ],
   "source": [
    "spark = SparkSession.builder.appName('Learning Spark').getOrCreate()\n",
    "spark"
   ]
  },
  {
   "cell_type": "code",
   "execution_count": 4,
   "id": "630cfdc0-601f-432e-a60e-72c7bc45a5a9",
   "metadata": {},
   "outputs": [],
   "source": [
    "data = spark.read.option('header', 'true').csv(pizza_dataset_path, inferSchema=True)"
   ]
  },
  {
   "cell_type": "code",
   "execution_count": 5,
   "id": "31c5d6b6-97b7-468f-8721-4efc41c899ac",
   "metadata": {},
   "outputs": [
    {
     "name": "stdout",
     "output_type": "stream",
     "text": [
      "+----------------+--------+--------------+--------+\n",
      "|order_details_id|order_id|      pizza_id|quantity|\n",
      "+----------------+--------+--------------+--------+\n",
      "|               1|       1|    hawaiian_m|       1|\n",
      "|               2|       2| classic_dlx_m|       1|\n",
      "|               3|       2| five_cheese_l|       1|\n",
      "|               4|       2|   ital_supr_l|       1|\n",
      "|               5|       2|    mexicana_m|       1|\n",
      "|               6|       2|    thai_ckn_l|       1|\n",
      "|               7|       3|   ital_supr_m|       1|\n",
      "|               8|       3|  prsc_argla_l|       1|\n",
      "|               9|       4|   ital_supr_m|       1|\n",
      "|              10|       5|   ital_supr_m|       1|\n",
      "|              11|       6|     bbq_ckn_s|       1|\n",
      "|              12|       6|   the_greek_s|       1|\n",
      "|              13|       7|spinach_supr_s|       1|\n",
      "|              14|       8|spinach_supr_s|       1|\n",
      "|              15|       9| classic_dlx_s|       1|\n",
      "|              16|       9|green_garden_s|       1|\n",
      "|              17|       9| ital_cpcllo_l|       1|\n",
      "|              18|       9|   ital_supr_l|       1|\n",
      "|              19|       9|   ital_supr_s|       1|\n",
      "|              20|       9|    mexicana_s|       1|\n",
      "+----------------+--------+--------------+--------+\n",
      "only showing top 20 rows\n",
      "\n"
     ]
    }
   ],
   "source": [
    "data.show()"
   ]
  },
  {
   "cell_type": "code",
   "execution_count": 6,
   "id": "49336607-3732-44fe-9ed9-fa66aea5b1e0",
   "metadata": {},
   "outputs": [
    {
     "name": "stdout",
     "output_type": "stream",
     "text": [
      "+----------------+--------+--------------+--------+\n",
      "|order_details_id|order_id|      pizza_id|quantity|\n",
      "+----------------+--------+--------------+--------+\n",
      "|              49|      17|mediterraneo_m|       2|\n",
      "|             184|      78|  spicy_ital_l|       3|\n",
      "|             212|      91|     bbq_ckn_l|       2|\n",
      "|             223|      92|   the_greek_m|       2|\n",
      "|             246|     105|    hawaiian_s|       2|\n",
      "|             342|     144|     bbq_ckn_m|       3|\n",
      "|             445|     189|    big_meat_s|       2|\n",
      "|             457|     193| ckn_alfredo_l|       2|\n",
      "|             612|     271|    cali_ckn_m|       2|\n",
      "|             613|     271| ckn_alfredo_m|       2|\n",
      "|             614|     271|   ckn_pesto_l|       2|\n",
      "|             661|     291| ckn_alfredo_m|       2|\n",
      "|             755|     330| four_cheese_l|       2|\n",
      "|             803|     350|   pepperoni_m|       2|\n",
      "|             826|     361|    big_meat_s|       2|\n",
      "|             891|     392|   pepperoni_s|       2|\n",
      "|             903|     394|   pepperoni_m|       3|\n",
      "|             912|     397| five_cheese_l|       2|\n",
      "|             939|     410|    big_meat_s|       2|\n",
      "|            1021|     443|    cali_ckn_m|       2|\n",
      "+----------------+--------+--------------+--------+\n",
      "only showing top 20 rows\n",
      "\n"
     ]
    }
   ],
   "source": [
    "### quantity more than 1\n",
    "data.filter('quantity>=2').show()"
   ]
  },
  {
   "cell_type": "code",
   "execution_count": 7,
   "id": "59b46508-153a-4637-ae56-50d7d5e8f55d",
   "metadata": {},
   "outputs": [
    {
     "name": "stdout",
     "output_type": "stream",
     "text": [
      "+--------------+--------+\n",
      "|      pizza_id|quantity|\n",
      "+--------------+--------+\n",
      "|mediterraneo_m|       2|\n",
      "|  spicy_ital_l|       3|\n",
      "|     bbq_ckn_l|       2|\n",
      "|   the_greek_m|       2|\n",
      "|    hawaiian_s|       2|\n",
      "|     bbq_ckn_m|       3|\n",
      "|    big_meat_s|       2|\n",
      "| ckn_alfredo_l|       2|\n",
      "|    cali_ckn_m|       2|\n",
      "| ckn_alfredo_m|       2|\n",
      "|   ckn_pesto_l|       2|\n",
      "| ckn_alfredo_m|       2|\n",
      "| four_cheese_l|       2|\n",
      "|   pepperoni_m|       2|\n",
      "|    big_meat_s|       2|\n",
      "|   pepperoni_s|       2|\n",
      "|   pepperoni_m|       3|\n",
      "| five_cheese_l|       2|\n",
      "|    big_meat_s|       2|\n",
      "|    cali_ckn_m|       2|\n",
      "+--------------+--------+\n",
      "only showing top 20 rows\n",
      "\n"
     ]
    }
   ],
   "source": [
    "data.filter('quantity>=2').select(['pizza_id', 'quantity']).show()"
   ]
  },
  {
   "cell_type": "code",
   "execution_count": 8,
   "id": "feb8b31e-efc5-4f7a-ae85-df6b6d368345",
   "metadata": {},
   "outputs": [
    {
     "name": "stdout",
     "output_type": "stream",
     "text": [
      "+----------------+--------+--------------+--------+\n",
      "|order_details_id|order_id|      pizza_id|quantity|\n",
      "+----------------+--------+--------------+--------+\n",
      "|              49|      17|mediterraneo_m|       2|\n",
      "|             184|      78|  spicy_ital_l|       3|\n",
      "|             212|      91|     bbq_ckn_l|       2|\n",
      "|             223|      92|   the_greek_m|       2|\n",
      "|             246|     105|    hawaiian_s|       2|\n",
      "|             342|     144|     bbq_ckn_m|       3|\n",
      "|             445|     189|    big_meat_s|       2|\n",
      "|             457|     193| ckn_alfredo_l|       2|\n",
      "|             612|     271|    cali_ckn_m|       2|\n",
      "|             613|     271| ckn_alfredo_m|       2|\n",
      "|             614|     271|   ckn_pesto_l|       2|\n",
      "|             661|     291| ckn_alfredo_m|       2|\n",
      "|             755|     330| four_cheese_l|       2|\n",
      "|             803|     350|   pepperoni_m|       2|\n",
      "|             826|     361|    big_meat_s|       2|\n",
      "|             891|     392|   pepperoni_s|       2|\n",
      "|             903|     394|   pepperoni_m|       3|\n",
      "|             912|     397| five_cheese_l|       2|\n",
      "|             939|     410|    big_meat_s|       2|\n",
      "|            1021|     443|    cali_ckn_m|       2|\n",
      "+----------------+--------+--------------+--------+\n",
      "only showing top 20 rows\n",
      "\n"
     ]
    }
   ],
   "source": [
    "data.filter(data['quantity'] >= 2).show()"
   ]
  },
  {
   "cell_type": "code",
   "execution_count": 10,
   "id": "bae6dbe9-25b2-4274-88df-878c9a986f8e",
   "metadata": {},
   "outputs": [
    {
     "name": "stdout",
     "output_type": "stream",
     "text": [
      "+----------------+--------+--------------+--------+\n",
      "|order_details_id|order_id|      pizza_id|quantity|\n",
      "+----------------+--------+--------------+--------+\n",
      "|               1|       1|    hawaiian_m|       1|\n",
      "|               2|       2| classic_dlx_m|       1|\n",
      "|               3|       2| five_cheese_l|       1|\n",
      "|               4|       2|   ital_supr_l|       1|\n",
      "|               5|       2|    mexicana_m|       1|\n",
      "|               6|       2|    thai_ckn_l|       1|\n",
      "|               7|       3|   ital_supr_m|       1|\n",
      "|               8|       3|  prsc_argla_l|       1|\n",
      "|               9|       4|   ital_supr_m|       1|\n",
      "|              10|       5|   ital_supr_m|       1|\n",
      "|              11|       6|     bbq_ckn_s|       1|\n",
      "|              12|       6|   the_greek_s|       1|\n",
      "|              13|       7|spinach_supr_s|       1|\n",
      "|              14|       8|spinach_supr_s|       1|\n",
      "|              15|       9| classic_dlx_s|       1|\n",
      "|              16|       9|green_garden_s|       1|\n",
      "|              17|       9| ital_cpcllo_l|       1|\n",
      "|              18|       9|   ital_supr_l|       1|\n",
      "|              19|       9|   ital_supr_s|       1|\n",
      "|              20|       9|    mexicana_s|       1|\n",
      "+----------------+--------+--------------+--------+\n",
      "only showing top 20 rows\n",
      "\n"
     ]
    }
   ],
   "source": [
    "# Not function\n",
    "data.filter(~(data['quantity'] >= 2)).show()"
   ]
  },
  {
   "cell_type": "code",
   "execution_count": 9,
   "id": "0519942a-fc8b-4094-a2a5-9ea7e079417d",
   "metadata": {},
   "outputs": [
    {
     "name": "stdout",
     "output_type": "stream",
     "text": [
      "+----------------+--------+--------------+--------+\n",
      "|order_details_id|order_id|      pizza_id|quantity|\n",
      "+----------------+--------+--------------+--------+\n",
      "|            1021|     443|    cali_ckn_m|       2|\n",
      "|            1101|     479| ital_cpcllo_l|       2|\n",
      "|            1188|     522| four_cheese_l|       2|\n",
      "|            1190|     522| ital_cpcllo_m|       2|\n",
      "|            1205|     529|    cali_ckn_m|       2|\n",
      "|            1209|     531|peppr_salami_m|       2|\n",
      "|            1277|     567| five_cheese_l|       2|\n",
      "|            1427|     635|    cali_ckn_s|       2|\n",
      "|            1525|     678|  spicy_ital_m|       2|\n",
      "|            1624|     724|  southw_ckn_l|       2|\n",
      "|            1657|     740| five_cheese_l|       2|\n",
      "|            1659|     740| ital_cpcllo_l|       2|\n",
      "|            1745|     776|    thai_ckn_l|       2|\n",
      "|            1784|     792|  spin_pesto_l|       2|\n",
      "|            1800|     800|   calabrese_l|       2|\n",
      "|            1804|     800|  southw_ckn_s|       2|\n",
      "|            1812|     801|    sicilian_s|       2|\n",
      "|            1826|     808|peppr_salami_l|       2|\n",
      "|            1898|     839|    mexicana_l|       2|\n",
      "|            2145|     954|    thai_ckn_l|       2|\n",
      "+----------------+--------+--------------+--------+\n",
      "only showing top 20 rows\n",
      "\n"
     ]
    }
   ],
   "source": [
    "data.filter((data['quantity'] >= 2) &\n",
    "           (data['order_details_id'] > 1000)).show()"
   ]
  },
  {
   "cell_type": "code",
   "execution_count": null,
   "id": "7ab93988-f61b-4ebf-b68f-593bbc1f666c",
   "metadata": {},
   "outputs": [],
   "source": []
  }
 ],
 "metadata": {
  "kernelspec": {
   "display_name": "Python 3 (ipykernel)",
   "language": "python",
   "name": "python3"
  },
  "language_info": {
   "codemirror_mode": {
    "name": "ipython",
    "version": 3
   },
   "file_extension": ".py",
   "mimetype": "text/x-python",
   "name": "python",
   "nbconvert_exporter": "python",
   "pygments_lexer": "ipython3",
   "version": "3.10.14"
  }
 },
 "nbformat": 4,
 "nbformat_minor": 5
}
