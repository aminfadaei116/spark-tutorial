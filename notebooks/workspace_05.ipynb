{
 "cells": [
  {
   "cell_type": "markdown",
   "id": "f748fb88-cc41-4648-b250-bc645ff111d6",
   "metadata": {},
   "source": [
    "# Pyspark GroupBy and Aggregate function"
   ]
  },
  {
   "cell_type": "code",
   "execution_count": 1,
   "id": "4779ef1c-9c18-49ba-b36a-c6a3b3baf4e2",
   "metadata": {},
   "outputs": [],
   "source": [
    "import pyspark\n",
    "import pandas as pd\n",
    "from pyspark.sql import SparkSession"
   ]
  },
  {
   "cell_type": "code",
   "execution_count": 2,
   "id": "bafd483c-e2df-44ef-a4b7-e4df5ed135db",
   "metadata": {},
   "outputs": [],
   "source": [
    "pizza_dataset_path = \"../datasets/pizza_sales/order_details.csv\""
   ]
  },
  {
   "cell_type": "code",
   "execution_count": 3,
   "id": "623933dd-cd09-43d3-96c3-b80d5ede4a2f",
   "metadata": {},
   "outputs": [
    {
     "data": {
      "text/html": [
       "\n",
       "            <div>\n",
       "                <p><b>SparkSession - in-memory</b></p>\n",
       "                \n",
       "        <div>\n",
       "            <p><b>SparkContext</b></p>\n",
       "\n",
       "            <p><a href=\"http://DESKTOP-1KI60Q1.mshome.net:4040\">Spark UI</a></p>\n",
       "\n",
       "            <dl>\n",
       "              <dt>Version</dt>\n",
       "                <dd><code>v3.5.1</code></dd>\n",
       "              <dt>Master</dt>\n",
       "                <dd><code>local[*]</code></dd>\n",
       "              <dt>AppName</dt>\n",
       "                <dd><code>Learning Spark</code></dd>\n",
       "            </dl>\n",
       "        </div>\n",
       "        \n",
       "            </div>\n",
       "        "
      ],
      "text/plain": [
       "<pyspark.sql.session.SparkSession at 0x12233f21270>"
      ]
     },
     "execution_count": 3,
     "metadata": {},
     "output_type": "execute_result"
    }
   ],
   "source": [
    "spark = SparkSession.builder.appName('Learning Spark').getOrCreate()\n",
    "spark"
   ]
  },
  {
   "cell_type": "code",
   "execution_count": 4,
   "id": "d91a87c8-d1de-41a1-ab29-1136e5614ef6",
   "metadata": {},
   "outputs": [],
   "source": [
    "data = spark.read.option('header', 'true').csv(pizza_dataset_path, inferSchema=True)"
   ]
  },
  {
   "cell_type": "code",
   "execution_count": 5,
   "id": "80650d6c-1528-47f4-bbcd-f61f78c11bec",
   "metadata": {},
   "outputs": [
    {
     "name": "stdout",
     "output_type": "stream",
     "text": [
      "+----------------+--------+--------------+--------+\n",
      "|order_details_id|order_id|      pizza_id|quantity|\n",
      "+----------------+--------+--------------+--------+\n",
      "|               1|       1|    hawaiian_m|       1|\n",
      "|               2|       2| classic_dlx_m|       1|\n",
      "|               3|       2| five_cheese_l|       1|\n",
      "|               4|       2|   ital_supr_l|       1|\n",
      "|               5|       2|    mexicana_m|       1|\n",
      "|               6|       2|    thai_ckn_l|       1|\n",
      "|               7|       3|   ital_supr_m|       1|\n",
      "|               8|       3|  prsc_argla_l|       1|\n",
      "|               9|       4|   ital_supr_m|       1|\n",
      "|              10|       5|   ital_supr_m|       1|\n",
      "|              11|       6|     bbq_ckn_s|       1|\n",
      "|              12|       6|   the_greek_s|       1|\n",
      "|              13|       7|spinach_supr_s|       1|\n",
      "|              14|       8|spinach_supr_s|       1|\n",
      "|              15|       9| classic_dlx_s|       1|\n",
      "|              16|       9|green_garden_s|       1|\n",
      "|              17|       9| ital_cpcllo_l|       1|\n",
      "|              18|       9|   ital_supr_l|       1|\n",
      "|              19|       9|   ital_supr_s|       1|\n",
      "|              20|       9|    mexicana_s|       1|\n",
      "+----------------+--------+--------------+--------+\n",
      "only showing top 20 rows\n",
      "\n"
     ]
    }
   ],
   "source": [
    "data.show()"
   ]
  },
  {
   "cell_type": "code",
   "execution_count": 6,
   "id": "fda98e23-e7cd-420d-9642-f316381ca605",
   "metadata": {},
   "outputs": [
    {
     "name": "stdout",
     "output_type": "stream",
     "text": [
      "root\n",
      " |-- order_details_id: integer (nullable = true)\n",
      " |-- order_id: integer (nullable = true)\n",
      " |-- pizza_id: string (nullable = true)\n",
      " |-- quantity: integer (nullable = true)\n",
      "\n"
     ]
    }
   ],
   "source": [
    "data.printSchema()"
   ]
  },
  {
   "cell_type": "markdown",
   "id": "c665dd84-761b-45fd-8ae4-f2cb93a3e433",
   "metadata": {},
   "source": [
    "## GroupBy"
   ]
  },
  {
   "cell_type": "code",
   "execution_count": 10,
   "id": "6de0a782-f66a-4254-aa9d-c8137b3c97e9",
   "metadata": {},
   "outputs": [
    {
     "name": "stdout",
     "output_type": "stream",
     "text": [
      "+--------------+---------------------+-------------+-------------+\n",
      "|      pizza_id|sum(order_details_id)|sum(order_id)|sum(quantity)|\n",
      "+--------------+---------------------+-------------+-------------+\n",
      "|   ital_supr_s|              4719859|      2077653|          196|\n",
      "|peppr_salami_s|              8169555|      3596003|          322|\n",
      "|peppr_salami_l|             16307609|      7177280|          696|\n",
      "|    hawaiian_l|             22112860|      9734186|          919|\n",
      "| spinach_fet_s|              9853468|      4337023|          439|\n",
      "| classic_dlx_l|             11664553|      5133768|          473|\n",
      "|     bbq_ckn_l|             23030923|     10138539|          992|\n",
      "|    sicilian_l|             14950783|      6580901|          613|\n",
      "|peppr_salami_m|             10366140|      4562623|          428|\n",
      "|spinach_supr_l|              6534365|      2876282|          283|\n",
      "|   pepperoni_s|             17842438|      7856154|          751|\n",
      "|   calabrese_s|              2354591|      1036061|           99|\n",
      "|    mexicana_m|             11157174|      4910266|          455|\n",
      "|     bbq_ckn_s|             11563112|      5090082|          484|\n",
      "|    thai_ckn_s|             11684442|      5143930|          480|\n",
      "|green_garden_m|              7041849|      3100261|          302|\n",
      "| soppressata_s|              7056637|      3106302|          288|\n",
      "| pep_msh_pep_l|              9331841|      4107689|          384|\n",
      "|   ital_supr_l|             18112682|      7973824|          747|\n",
      "| soppressata_m|              6572341|      2893594|          268|\n",
      "+--------------+---------------------+-------------+-------------+\n",
      "only showing top 20 rows\n",
      "\n"
     ]
    }
   ],
   "source": [
    "data.groupBy('pizza_id').sum().show()"
   ]
  },
  {
   "cell_type": "code",
   "execution_count": 13,
   "id": "22abe24d-6a60-47cf-81cf-26885eed48b9",
   "metadata": {},
   "outputs": [
    {
     "name": "stdout",
     "output_type": "stream",
     "text": [
      "+--------------+-----+\n",
      "|      pizza_id|count|\n",
      "+--------------+-----+\n",
      "|   ital_supr_s|  194|\n",
      "|peppr_salami_s|  318|\n",
      "|peppr_salami_l|  680|\n",
      "|    hawaiian_l|  896|\n",
      "| spinach_fet_s|  437|\n",
      "| classic_dlx_l|  471|\n",
      "|     bbq_ckn_l|  967|\n",
      "|    sicilian_l|  596|\n",
      "|peppr_salami_m|  424|\n",
      "|spinach_supr_l|  280|\n",
      "|   pepperoni_s|  739|\n",
      "|   calabrese_s|   99|\n",
      "|    mexicana_m|  452|\n",
      "|     bbq_ckn_s|  479|\n",
      "|    thai_ckn_s|  476|\n",
      "|green_garden_m|  300|\n",
      "| soppressata_s|  288|\n",
      "| pep_msh_pep_l|  381|\n",
      "|   ital_supr_l|  735|\n",
      "| soppressata_m|  268|\n",
      "+--------------+-----+\n",
      "only showing top 20 rows\n",
      "\n"
     ]
    }
   ],
   "source": [
    "data.groupBy('pizza_id').count().show()"
   ]
  },
  {
   "cell_type": "code",
   "execution_count": 14,
   "id": "e0647e3b-7ebc-427c-a7f0-f01cacd68e3c",
   "metadata": {},
   "outputs": [
    {
     "name": "stdout",
     "output_type": "stream",
     "text": [
      "+--------------+---------------------+-------------+-------------+\n",
      "|      pizza_id|max(order_details_id)|max(order_id)|max(quantity)|\n",
      "+--------------+---------------------+-------------+-------------+\n",
      "|   ital_supr_s|                48400|        21251|            2|\n",
      "|peppr_salami_s|                48614|        21347|            2|\n",
      "|peppr_salami_l|                48592|        21339|            2|\n",
      "|    hawaiian_l|                48556|        21322|            3|\n",
      "| spinach_fet_s|                48578|        21331|            2|\n",
      "| classic_dlx_l|                48488|        21295|            2|\n",
      "|     bbq_ckn_l|                48576|        21331|            3|\n",
      "|    sicilian_l|                48543|        21315|            2|\n",
      "|peppr_salami_m|                48517|        21303|            2|\n",
      "|spinach_supr_l|                48404|        21251|            2|\n",
      "|   pepperoni_s|                48551|        21318|            2|\n",
      "|   calabrese_s|                47321|        20795|            1|\n",
      "|    mexicana_m|                48594|        21340|            2|\n",
      "|     bbq_ckn_s|                48620|        21350|            2|\n",
      "|    thai_ckn_s|                48405|        21251|            2|\n",
      "|green_garden_m|                48593|        21340|            2|\n",
      "| soppressata_s|                48505|        21300|            1|\n",
      "| pep_msh_pep_l|                48512|        21302|            2|\n",
      "|   ital_supr_l|                48583|        21333|            2|\n",
      "| soppressata_m|                48390|        21249|            1|\n",
      "+--------------+---------------------+-------------+-------------+\n",
      "only showing top 20 rows\n",
      "\n"
     ]
    }
   ],
   "source": [
    "data.groupBy('pizza_id').max().show()"
   ]
  },
  {
   "cell_type": "code",
   "execution_count": null,
   "id": "1bd1dcf8-2300-4221-8fea-15aeeb9a31c3",
   "metadata": {},
   "outputs": [],
   "source": []
  }
 ],
 "metadata": {
  "kernelspec": {
   "display_name": "Python 3 (ipykernel)",
   "language": "python",
   "name": "python3"
  },
  "language_info": {
   "codemirror_mode": {
    "name": "ipython",
    "version": 3
   },
   "file_extension": ".py",
   "mimetype": "text/x-python",
   "name": "python",
   "nbconvert_exporter": "python",
   "pygments_lexer": "ipython3",
   "version": "3.10.14"
  }
 },
 "nbformat": 4,
 "nbformat_minor": 5
}
