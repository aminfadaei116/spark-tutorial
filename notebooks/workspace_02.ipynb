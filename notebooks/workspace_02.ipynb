{
 "cells": [
  {
   "cell_type": "code",
   "execution_count": 2,
   "id": "2c757036-3037-4301-921f-c29ff005206b",
   "metadata": {},
   "outputs": [],
   "source": [
    "import pyspark\n",
    "import pandas as pd\n",
    "from pyspark.sql import SparkSession"
   ]
  },
  {
   "cell_type": "code",
   "execution_count": 3,
   "id": "dd606d83-acca-4a84-a50e-d6cf5713372f",
   "metadata": {},
   "outputs": [],
   "source": [
    "pizza_dataset_path = \"../datasets/pizza_sales/order_details.csv\""
   ]
  },
  {
   "cell_type": "code",
   "execution_count": 4,
   "id": "0d1c73e7-1fbf-4f84-a3be-e2ceed93495f",
   "metadata": {},
   "outputs": [
    {
     "data": {
      "text/html": [
       "\n",
       "            <div>\n",
       "                <p><b>SparkSession - in-memory</b></p>\n",
       "                \n",
       "        <div>\n",
       "            <p><b>SparkContext</b></p>\n",
       "\n",
       "            <p><a href=\"http://DESKTOP-1KI60Q1.mshome.net:4040\">Spark UI</a></p>\n",
       "\n",
       "            <dl>\n",
       "              <dt>Version</dt>\n",
       "                <dd><code>v3.5.1</code></dd>\n",
       "              <dt>Master</dt>\n",
       "                <dd><code>local[*]</code></dd>\n",
       "              <dt>AppName</dt>\n",
       "                <dd><code>Learning Spark</code></dd>\n",
       "            </dl>\n",
       "        </div>\n",
       "        \n",
       "            </div>\n",
       "        "
      ],
      "text/plain": [
       "<pyspark.sql.session.SparkSession at 0x2ba77b3d6f0>"
      ]
     },
     "execution_count": 4,
     "metadata": {},
     "output_type": "execute_result"
    }
   ],
   "source": [
    "spark = SparkSession.builder.appName('Learning Spark').getOrCreate()\n",
    "spark"
   ]
  },
  {
   "cell_type": "code",
   "execution_count": 9,
   "id": "2dc5c803-f66e-4281-82d4-5d118508bc1d",
   "metadata": {},
   "outputs": [],
   "source": [
    "data = spark.read.option('header', 'true').csv(pizza_dataset_path, inferSchema=True)"
   ]
  },
  {
   "cell_type": "code",
   "execution_count": 10,
   "id": "2cc4dec5-408d-4807-aadb-08c09a0c35b1",
   "metadata": {},
   "outputs": [
    {
     "name": "stdout",
     "output_type": "stream",
     "text": [
      "root\n",
      " |-- order_details_id: integer (nullable = true)\n",
      " |-- order_id: integer (nullable = true)\n",
      " |-- pizza_id: string (nullable = true)\n",
      " |-- quantity: integer (nullable = true)\n",
      "\n"
     ]
    }
   ],
   "source": [
    "data.printSchema()"
   ]
  },
  {
   "cell_type": "code",
   "execution_count": 12,
   "id": "93cab13a-c7c9-4e8a-8cb3-a97554e7ac45",
   "metadata": {},
   "outputs": [
    {
     "data": {
      "text/plain": [
       "['order_details_id', 'order_id', 'pizza_id', 'quantity']"
      ]
     },
     "execution_count": 12,
     "metadata": {},
     "output_type": "execute_result"
    }
   ],
   "source": [
    "data.columns"
   ]
  },
  {
   "cell_type": "code",
   "execution_count": 14,
   "id": "7351b4ea-832f-4715-99ce-dfe3dd8b8657",
   "metadata": {},
   "outputs": [
    {
     "data": {
      "text/plain": [
       "[Row(order_details_id=1, order_id=1, pizza_id='hawaiian_m', quantity=1),\n",
       " Row(order_details_id=2, order_id=2, pizza_id='classic_dlx_m', quantity=1),\n",
       " Row(order_details_id=3, order_id=2, pizza_id='five_cheese_l', quantity=1)]"
      ]
     },
     "execution_count": 14,
     "metadata": {},
     "output_type": "execute_result"
    }
   ],
   "source": [
    "data.head(3)"
   ]
  },
  {
   "cell_type": "markdown",
   "id": "e3d12016-41e5-423e-81e9-915af4effff7",
   "metadata": {},
   "source": [
    "# How to get an element "
   ]
  },
  {
   "cell_type": "code",
   "execution_count": 20,
   "id": "f0c786de-91b2-4dc2-b2a2-5a1d7f511aef",
   "metadata": {},
   "outputs": [
    {
     "name": "stdout",
     "output_type": "stream",
     "text": [
      "+--------------+----------------+\n",
      "|      pizza_id|order_details_id|\n",
      "+--------------+----------------+\n",
      "|    hawaiian_m|               1|\n",
      "| classic_dlx_m|               2|\n",
      "| five_cheese_l|               3|\n",
      "|   ital_supr_l|               4|\n",
      "|    mexicana_m|               5|\n",
      "|    thai_ckn_l|               6|\n",
      "|   ital_supr_m|               7|\n",
      "|  prsc_argla_l|               8|\n",
      "|   ital_supr_m|               9|\n",
      "|   ital_supr_m|              10|\n",
      "|     bbq_ckn_s|              11|\n",
      "|   the_greek_s|              12|\n",
      "|spinach_supr_s|              13|\n",
      "|spinach_supr_s|              14|\n",
      "| classic_dlx_s|              15|\n",
      "|green_garden_s|              16|\n",
      "| ital_cpcllo_l|              17|\n",
      "|   ital_supr_l|              18|\n",
      "|   ital_supr_s|              19|\n",
      "|    mexicana_s|              20|\n",
      "+--------------+----------------+\n",
      "only showing top 20 rows\n",
      "\n"
     ]
    }
   ],
   "source": [
    "data.select(['pizza_id', 'order_details_id']).show()\n"
   ]
  },
  {
   "cell_type": "code",
   "execution_count": 23,
   "id": "2d2899d4-b08d-4b23-8c2f-6aa3d03b0c22",
   "metadata": {},
   "outputs": [
    {
     "data": {
      "text/plain": [
       "[('order_details_id', 'int'),\n",
       " ('order_id', 'int'),\n",
       " ('pizza_id', 'string'),\n",
       " ('quantity', 'int')]"
      ]
     },
     "execution_count": 23,
     "metadata": {},
     "output_type": "execute_result"
    }
   ],
   "source": [
    "data.dtypes"
   ]
  },
  {
   "cell_type": "code",
   "execution_count": 25,
   "id": "cf3eca2a-4248-4cc2-9bfa-47d15b4f27cd",
   "metadata": {},
   "outputs": [
    {
     "name": "stdout",
     "output_type": "stream",
     "text": [
      "+-------+------------------+------------------+------------+------------------+\n",
      "|summary|  order_details_id|          order_id|    pizza_id|          quantity|\n",
      "+-------+------------------+------------------+------------+------------------+\n",
      "|  count|             48620|             48620|       48620|             48620|\n",
      "|   mean|           24310.5|10701.479761415056|        NULL|1.0196215549156726|\n",
      "| stddev|14035.529380824935|6180.1197703776215|        NULL|0.1430770093247217|\n",
      "|    min|                 1|                 1|   bbq_ckn_l|                 1|\n",
      "|    max|             48620|             21350|veggie_veg_s|                 4|\n",
      "+-------+------------------+------------------+------------+------------------+\n",
      "\n"
     ]
    }
   ],
   "source": [
    "data.describe().show()"
   ]
  },
  {
   "cell_type": "markdown",
   "id": "d475186c-b8d6-4834-b2f7-6af472021975",
   "metadata": {},
   "source": [
    "### Adding Columns in data farme"
   ]
  },
  {
   "cell_type": "code",
   "execution_count": 49,
   "id": "ffb33931-6aa6-49e5-ba8a-be0d29e0cc96",
   "metadata": {},
   "outputs": [
    {
     "name": "stdout",
     "output_type": "stream",
     "text": [
      "+----------------+--------+--------------+--------+----------+\n",
      "|order_details_id|order_id|      pizza_id|quantity|new colomn|\n",
      "+----------------+--------+--------------+--------+----------+\n",
      "|               1|       1|    hawaiian_m|       1|         3|\n",
      "|               2|       2| classic_dlx_m|       1|         3|\n",
      "|               3|       2| five_cheese_l|       1|         3|\n",
      "|               4|       2|   ital_supr_l|       1|         3|\n",
      "|               5|       2|    mexicana_m|       1|         3|\n",
      "|               6|       2|    thai_ckn_l|       1|         3|\n",
      "|               7|       3|   ital_supr_m|       1|         3|\n",
      "|               8|       3|  prsc_argla_l|       1|         3|\n",
      "|               9|       4|   ital_supr_m|       1|         3|\n",
      "|              10|       5|   ital_supr_m|       1|         3|\n",
      "|              11|       6|     bbq_ckn_s|       1|         3|\n",
      "|              12|       6|   the_greek_s|       1|         3|\n",
      "|              13|       7|spinach_supr_s|       1|         3|\n",
      "|              14|       8|spinach_supr_s|       1|         3|\n",
      "|              15|       9| classic_dlx_s|       1|         3|\n",
      "|              16|       9|green_garden_s|       1|         3|\n",
      "|              17|       9| ital_cpcllo_l|       1|         3|\n",
      "|              18|       9|   ital_supr_l|       1|         3|\n",
      "|              19|       9|   ital_supr_s|       1|         3|\n",
      "|              20|       9|    mexicana_s|       1|         3|\n",
      "+----------------+--------+--------------+--------+----------+\n",
      "only showing top 20 rows\n",
      "\n"
     ]
    }
   ],
   "source": [
    "temp_data = data.withColumn('new colomn', data['quantity']+2)\n",
    "temp_data.show()"
   ]
  },
  {
   "cell_type": "markdown",
   "id": "428331c3-c51c-4ff5-8f1c-313b9c329e15",
   "metadata": {},
   "source": [
    "### Drop Columns in data frame"
   ]
  },
  {
   "cell_type": "code",
   "execution_count": 50,
   "id": "a69a8c46-db30-428d-857b-6e89a77a0e17",
   "metadata": {},
   "outputs": [
    {
     "name": "stdout",
     "output_type": "stream",
     "text": [
      "+----------------+--------+--------------+--------+\n",
      "|order_details_id|order_id|      pizza_id|quantity|\n",
      "+----------------+--------+--------------+--------+\n",
      "|               1|       1|    hawaiian_m|       1|\n",
      "|               2|       2| classic_dlx_m|       1|\n",
      "|               3|       2| five_cheese_l|       1|\n",
      "|               4|       2|   ital_supr_l|       1|\n",
      "|               5|       2|    mexicana_m|       1|\n",
      "|               6|       2|    thai_ckn_l|       1|\n",
      "|               7|       3|   ital_supr_m|       1|\n",
      "|               8|       3|  prsc_argla_l|       1|\n",
      "|               9|       4|   ital_supr_m|       1|\n",
      "|              10|       5|   ital_supr_m|       1|\n",
      "|              11|       6|     bbq_ckn_s|       1|\n",
      "|              12|       6|   the_greek_s|       1|\n",
      "|              13|       7|spinach_supr_s|       1|\n",
      "|              14|       8|spinach_supr_s|       1|\n",
      "|              15|       9| classic_dlx_s|       1|\n",
      "|              16|       9|green_garden_s|       1|\n",
      "|              17|       9| ital_cpcllo_l|       1|\n",
      "|              18|       9|   ital_supr_l|       1|\n",
      "|              19|       9|   ital_supr_s|       1|\n",
      "|              20|       9|    mexicana_s|       1|\n",
      "+----------------+--------+--------------+--------+\n",
      "only showing top 20 rows\n",
      "\n"
     ]
    }
   ],
   "source": [
    "temp_data = temp_data.drop('new colomn')\n",
    "temp_data.show()"
   ]
  },
  {
   "cell_type": "markdown",
   "id": "4df14a2d-0b54-429a-bc43-81d9e4041130",
   "metadata": {},
   "source": [
    "### Rename the Columns in data frame"
   ]
  },
  {
   "cell_type": "code",
   "execution_count": 53,
   "id": "f500182e-27d3-4d23-b471-76806985eb26",
   "metadata": {},
   "outputs": [
    {
     "name": "stdout",
     "output_type": "stream",
     "text": [
      "+----------------+--------+--------------+--------+\n",
      "|order_details_id|order_id|  new_pizza_id|quantity|\n",
      "+----------------+--------+--------------+--------+\n",
      "|               1|       1|    hawaiian_m|       1|\n",
      "|               2|       2| classic_dlx_m|       1|\n",
      "|               3|       2| five_cheese_l|       1|\n",
      "|               4|       2|   ital_supr_l|       1|\n",
      "|               5|       2|    mexicana_m|       1|\n",
      "|               6|       2|    thai_ckn_l|       1|\n",
      "|               7|       3|   ital_supr_m|       1|\n",
      "|               8|       3|  prsc_argla_l|       1|\n",
      "|               9|       4|   ital_supr_m|       1|\n",
      "|              10|       5|   ital_supr_m|       1|\n",
      "|              11|       6|     bbq_ckn_s|       1|\n",
      "|              12|       6|   the_greek_s|       1|\n",
      "|              13|       7|spinach_supr_s|       1|\n",
      "|              14|       8|spinach_supr_s|       1|\n",
      "|              15|       9| classic_dlx_s|       1|\n",
      "|              16|       9|green_garden_s|       1|\n",
      "|              17|       9| ital_cpcllo_l|       1|\n",
      "|              18|       9|   ital_supr_l|       1|\n",
      "|              19|       9|   ital_supr_s|       1|\n",
      "|              20|       9|    mexicana_s|       1|\n",
      "+----------------+--------+--------------+--------+\n",
      "only showing top 20 rows\n",
      "\n"
     ]
    }
   ],
   "source": [
    "temp_data = temp_data.withColumnRenamed('pizza_id', 'new_pizza_id')\n",
    "temp_data.show()"
   ]
  },
  {
   "cell_type": "code",
   "execution_count": null,
   "id": "31d485b8-00a7-4dff-8d9d-52802926c8c5",
   "metadata": {},
   "outputs": [],
   "source": []
  }
 ],
 "metadata": {
  "kernelspec": {
   "display_name": "Python 3 (ipykernel)",
   "language": "python",
   "name": "python3"
  },
  "language_info": {
   "codemirror_mode": {
    "name": "ipython",
    "version": 3
   },
   "file_extension": ".py",
   "mimetype": "text/x-python",
   "name": "python",
   "nbconvert_exporter": "python",
   "pygments_lexer": "ipython3",
   "version": "3.10.14"
  }
 },
 "nbformat": 4,
 "nbformat_minor": 5
}
