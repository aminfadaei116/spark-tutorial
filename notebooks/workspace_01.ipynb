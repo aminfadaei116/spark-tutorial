{
 "cells": [
  {
   "cell_type": "code",
   "execution_count": 1,
   "id": "0f1c453e-2a24-4034-a96f-d739296eccd7",
   "metadata": {},
   "outputs": [],
   "source": [
    "import pyspark\n",
    "import pandas as pd\n",
    "from pyspark.sql import SparkSession"
   ]
  },
  {
   "cell_type": "code",
   "execution_count": 2,
   "id": "7d994b7e-22d8-41d1-ac77-32a0226db9aa",
   "metadata": {},
   "outputs": [],
   "source": [
    "pizza_dataset_path = \"../datasets/pizza_sales/order_details.csv\""
   ]
  },
  {
   "cell_type": "code",
   "execution_count": 3,
   "id": "4a4f1000-7478-452a-a1ba-6681a36f44de",
   "metadata": {},
   "outputs": [
    {
     "data": {
      "text/html": [
       "<div>\n",
       "<style scoped>\n",
       "    .dataframe tbody tr th:only-of-type {\n",
       "        vertical-align: middle;\n",
       "    }\n",
       "\n",
       "    .dataframe tbody tr th {\n",
       "        vertical-align: top;\n",
       "    }\n",
       "\n",
       "    .dataframe thead th {\n",
       "        text-align: right;\n",
       "    }\n",
       "</style>\n",
       "<table border=\"1\" class=\"dataframe\">\n",
       "  <thead>\n",
       "    <tr style=\"text-align: right;\">\n",
       "      <th></th>\n",
       "      <th>order_details_id</th>\n",
       "      <th>order_id</th>\n",
       "      <th>pizza_id</th>\n",
       "      <th>quantity</th>\n",
       "    </tr>\n",
       "  </thead>\n",
       "  <tbody>\n",
       "    <tr>\n",
       "      <th>0</th>\n",
       "      <td>1</td>\n",
       "      <td>1</td>\n",
       "      <td>hawaiian_m</td>\n",
       "      <td>1</td>\n",
       "    </tr>\n",
       "    <tr>\n",
       "      <th>1</th>\n",
       "      <td>2</td>\n",
       "      <td>2</td>\n",
       "      <td>classic_dlx_m</td>\n",
       "      <td>1</td>\n",
       "    </tr>\n",
       "    <tr>\n",
       "      <th>2</th>\n",
       "      <td>3</td>\n",
       "      <td>2</td>\n",
       "      <td>five_cheese_l</td>\n",
       "      <td>1</td>\n",
       "    </tr>\n",
       "    <tr>\n",
       "      <th>3</th>\n",
       "      <td>4</td>\n",
       "      <td>2</td>\n",
       "      <td>ital_supr_l</td>\n",
       "      <td>1</td>\n",
       "    </tr>\n",
       "    <tr>\n",
       "      <th>4</th>\n",
       "      <td>5</td>\n",
       "      <td>2</td>\n",
       "      <td>mexicana_m</td>\n",
       "      <td>1</td>\n",
       "    </tr>\n",
       "    <tr>\n",
       "      <th>...</th>\n",
       "      <td>...</td>\n",
       "      <td>...</td>\n",
       "      <td>...</td>\n",
       "      <td>...</td>\n",
       "    </tr>\n",
       "    <tr>\n",
       "      <th>48615</th>\n",
       "      <td>48616</td>\n",
       "      <td>21348</td>\n",
       "      <td>ckn_alfredo_m</td>\n",
       "      <td>1</td>\n",
       "    </tr>\n",
       "    <tr>\n",
       "      <th>48616</th>\n",
       "      <td>48617</td>\n",
       "      <td>21348</td>\n",
       "      <td>four_cheese_l</td>\n",
       "      <td>1</td>\n",
       "    </tr>\n",
       "    <tr>\n",
       "      <th>48617</th>\n",
       "      <td>48618</td>\n",
       "      <td>21348</td>\n",
       "      <td>napolitana_s</td>\n",
       "      <td>1</td>\n",
       "    </tr>\n",
       "    <tr>\n",
       "      <th>48618</th>\n",
       "      <td>48619</td>\n",
       "      <td>21349</td>\n",
       "      <td>mexicana_l</td>\n",
       "      <td>1</td>\n",
       "    </tr>\n",
       "    <tr>\n",
       "      <th>48619</th>\n",
       "      <td>48620</td>\n",
       "      <td>21350</td>\n",
       "      <td>bbq_ckn_s</td>\n",
       "      <td>1</td>\n",
       "    </tr>\n",
       "  </tbody>\n",
       "</table>\n",
       "<p>48620 rows × 4 columns</p>\n",
       "</div>"
      ],
      "text/plain": [
       "       order_details_id  order_id       pizza_id  quantity\n",
       "0                     1         1     hawaiian_m         1\n",
       "1                     2         2  classic_dlx_m         1\n",
       "2                     3         2  five_cheese_l         1\n",
       "3                     4         2    ital_supr_l         1\n",
       "4                     5         2     mexicana_m         1\n",
       "...                 ...       ...            ...       ...\n",
       "48615             48616     21348  ckn_alfredo_m         1\n",
       "48616             48617     21348  four_cheese_l         1\n",
       "48617             48618     21348   napolitana_s         1\n",
       "48618             48619     21349     mexicana_l         1\n",
       "48619             48620     21350      bbq_ckn_s         1\n",
       "\n",
       "[48620 rows x 4 columns]"
      ]
     },
     "execution_count": 3,
     "metadata": {},
     "output_type": "execute_result"
    }
   ],
   "source": [
    "data = pd.read_csv(pizza_dataset_path)\n",
    "data"
   ]
  },
  {
   "cell_type": "code",
   "execution_count": 4,
   "id": "e6ec6555-51dd-4fb7-92ea-1073dfe680c8",
   "metadata": {},
   "outputs": [
    {
     "data": {
      "text/html": [
       "\n",
       "            <div>\n",
       "                <p><b>SparkSession - in-memory</b></p>\n",
       "                \n",
       "        <div>\n",
       "            <p><b>SparkContext</b></p>\n",
       "\n",
       "            <p><a href=\"http://DESKTOP-1KI60Q1.mshome.net:4040\">Spark UI</a></p>\n",
       "\n",
       "            <dl>\n",
       "              <dt>Version</dt>\n",
       "                <dd><code>v3.5.1</code></dd>\n",
       "              <dt>Master</dt>\n",
       "                <dd><code>local[*]</code></dd>\n",
       "              <dt>AppName</dt>\n",
       "                <dd><code>Learning Spark</code></dd>\n",
       "            </dl>\n",
       "        </div>\n",
       "        \n",
       "            </div>\n",
       "        "
      ],
      "text/plain": [
       "<pyspark.sql.session.SparkSession at 0x21853112380>"
      ]
     },
     "execution_count": 4,
     "metadata": {},
     "output_type": "execute_result"
    }
   ],
   "source": [
    "session = SparkSession.builder.appName('Learning Spark').getOrCreate()\n",
    "session"
   ]
  },
  {
   "cell_type": "code",
   "execution_count": 5,
   "id": "ec57715c-4abf-47c3-84f1-0aefa96818e9",
   "metadata": {},
   "outputs": [],
   "source": [
    "data = session.read.csv(pizza_dataset_path)"
   ]
  },
  {
   "cell_type": "code",
   "execution_count": 6,
   "id": "784b6ea2-4f02-4197-a023-c3fea964271a",
   "metadata": {},
   "outputs": [
    {
     "name": "stdout",
     "output_type": "stream",
     "text": [
      "+----------------+--------+--------------+--------+\n",
      "|             _c0|     _c1|           _c2|     _c3|\n",
      "+----------------+--------+--------------+--------+\n",
      "|order_details_id|order_id|      pizza_id|quantity|\n",
      "|               1|       1|    hawaiian_m|       1|\n",
      "|               2|       2| classic_dlx_m|       1|\n",
      "|               3|       2| five_cheese_l|       1|\n",
      "|               4|       2|   ital_supr_l|       1|\n",
      "|               5|       2|    mexicana_m|       1|\n",
      "|               6|       2|    thai_ckn_l|       1|\n",
      "|               7|       3|   ital_supr_m|       1|\n",
      "|               8|       3|  prsc_argla_l|       1|\n",
      "|               9|       4|   ital_supr_m|       1|\n",
      "|              10|       5|   ital_supr_m|       1|\n",
      "|              11|       6|     bbq_ckn_s|       1|\n",
      "|              12|       6|   the_greek_s|       1|\n",
      "|              13|       7|spinach_supr_s|       1|\n",
      "|              14|       8|spinach_supr_s|       1|\n",
      "|              15|       9| classic_dlx_s|       1|\n",
      "|              16|       9|green_garden_s|       1|\n",
      "|              17|       9| ital_cpcllo_l|       1|\n",
      "|              18|       9|   ital_supr_l|       1|\n",
      "|              19|       9|   ital_supr_s|       1|\n",
      "+----------------+--------+--------------+--------+\n",
      "only showing top 20 rows\n",
      "\n"
     ]
    }
   ],
   "source": [
    "data.show()"
   ]
  },
  {
   "cell_type": "code",
   "execution_count": 12,
   "id": "6f7cdd77-72b8-40df-84f9-7b3883dd0dc4",
   "metadata": {},
   "outputs": [],
   "source": [
    "df = session.read.option('header', 'true').csv(pizza_dataset_path)"
   ]
  },
  {
   "cell_type": "code",
   "execution_count": 14,
   "id": "2cd6875d-03e9-46bc-88db-8f4b7abd093b",
   "metadata": {},
   "outputs": [
    {
     "name": "stdout",
     "output_type": "stream",
     "text": [
      "+----------------+--------+--------------+--------+\n",
      "|order_details_id|order_id|      pizza_id|quantity|\n",
      "+----------------+--------+--------------+--------+\n",
      "|               1|       1|    hawaiian_m|       1|\n",
      "|               2|       2| classic_dlx_m|       1|\n",
      "|               3|       2| five_cheese_l|       1|\n",
      "|               4|       2|   ital_supr_l|       1|\n",
      "|               5|       2|    mexicana_m|       1|\n",
      "|               6|       2|    thai_ckn_l|       1|\n",
      "|               7|       3|   ital_supr_m|       1|\n",
      "|               8|       3|  prsc_argla_l|       1|\n",
      "|               9|       4|   ital_supr_m|       1|\n",
      "|              10|       5|   ital_supr_m|       1|\n",
      "|              11|       6|     bbq_ckn_s|       1|\n",
      "|              12|       6|   the_greek_s|       1|\n",
      "|              13|       7|spinach_supr_s|       1|\n",
      "|              14|       8|spinach_supr_s|       1|\n",
      "|              15|       9| classic_dlx_s|       1|\n",
      "|              16|       9|green_garden_s|       1|\n",
      "|              17|       9| ital_cpcllo_l|       1|\n",
      "|              18|       9|   ital_supr_l|       1|\n",
      "|              19|       9|   ital_supr_s|       1|\n",
      "|              20|       9|    mexicana_s|       1|\n",
      "+----------------+--------+--------------+--------+\n",
      "only showing top 20 rows\n",
      "\n"
     ]
    }
   ],
   "source": [
    "df.show()"
   ]
  },
  {
   "cell_type": "code",
   "execution_count": 16,
   "id": "11ba88e4-c6f0-47ec-a788-4179af7510df",
   "metadata": {},
   "outputs": [
    {
     "name": "stdout",
     "output_type": "stream",
     "text": [
      "root\n",
      " |-- order_details_id: string (nullable = true)\n",
      " |-- order_id: string (nullable = true)\n",
      " |-- pizza_id: string (nullable = true)\n",
      " |-- quantity: string (nullable = true)\n",
      "\n"
     ]
    }
   ],
   "source": [
    "df.printSchema()"
   ]
  },
  {
   "cell_type": "code",
   "execution_count": null,
   "id": "040ca68d-a7e8-480e-b9f5-aba8072f6187",
   "metadata": {},
   "outputs": [],
   "source": []
  }
 ],
 "metadata": {
  "kernelspec": {
   "display_name": "Python 3 (ipykernel)",
   "language": "python",
   "name": "python3"
  },
  "language_info": {
   "codemirror_mode": {
    "name": "ipython",
    "version": 3
   },
   "file_extension": ".py",
   "mimetype": "text/x-python",
   "name": "python",
   "nbconvert_exporter": "python",
   "pygments_lexer": "ipython3",
   "version": "3.10.14"
  }
 },
 "nbformat": 4,
 "nbformat_minor": 5
}
