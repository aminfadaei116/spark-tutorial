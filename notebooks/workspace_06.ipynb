{
 "cells": [
  {
   "cell_type": "markdown",
   "id": "811fe413-7a3d-464a-b092-3418b95941dc",
   "metadata": {},
   "source": [
    "# Examples of Pyspark ML"
   ]
  },
  {
   "cell_type": "code",
   "execution_count": 1,
   "id": "7a67139d-1fe8-4aca-b8a7-4d98301accd1",
   "metadata": {},
   "outputs": [],
   "source": [
    "import pyspark\n",
    "import pandas as pd\n",
    "from pyspark.sql import SparkSession"
   ]
  },
  {
   "cell_type": "code",
   "execution_count": 2,
   "id": "3be24248-143b-4b6c-803a-00afa3c4ab73",
   "metadata": {},
   "outputs": [],
   "source": [
    "pizza_dataset_path = \"../datasets/demo/salary.csv\""
   ]
  },
  {
   "cell_type": "code",
   "execution_count": 3,
   "id": "009482d8-c327-4841-a07d-84dcbf05c3e4",
   "metadata": {},
   "outputs": [
    {
     "data": {
      "text/html": [
       "\n",
       "            <div>\n",
       "                <p><b>SparkSession - in-memory</b></p>\n",
       "                \n",
       "        <div>\n",
       "            <p><b>SparkContext</b></p>\n",
       "\n",
       "            <p><a href=\"http://DESKTOP-1KI60Q1.mshome.net:4041\">Spark UI</a></p>\n",
       "\n",
       "            <dl>\n",
       "              <dt>Version</dt>\n",
       "                <dd><code>v3.5.1</code></dd>\n",
       "              <dt>Master</dt>\n",
       "                <dd><code>local[*]</code></dd>\n",
       "              <dt>AppName</dt>\n",
       "                <dd><code>Learning Spark</code></dd>\n",
       "            </dl>\n",
       "        </div>\n",
       "        \n",
       "            </div>\n",
       "        "
      ],
      "text/plain": [
       "<pyspark.sql.session.SparkSession at 0x2544f7f1240>"
      ]
     },
     "execution_count": 3,
     "metadata": {},
     "output_type": "execute_result"
    }
   ],
   "source": [
    "spark = SparkSession.builder.appName('Learning Spark').getOrCreate()\n",
    "spark"
   ]
  },
  {
   "cell_type": "code",
   "execution_count": 4,
   "id": "a6393493-84d4-4b8f-8142-2c29b7ede811",
   "metadata": {},
   "outputs": [],
   "source": [
    "data = spark.read.option('header', 'true').csv(pizza_dataset_path, inferSchema=True)"
   ]
  },
  {
   "cell_type": "code",
   "execution_count": 5,
   "id": "167ff094-6a19-4290-a78e-49c43ea285c0",
   "metadata": {},
   "outputs": [
    {
     "name": "stdout",
     "output_type": "stream",
     "text": [
      "+------+---+---+------+\n",
      "|  Name|age|exp|salary|\n",
      "+------+---+---+------+\n",
      "|  Amin| 25|  3|100000|\n",
      "|Sajjad| 26|  4|100000|\n",
      "|  Zari| 24|  1| 80000|\n",
      "|Danial| 24|  4| 85000|\n",
      "| Kimia| 25|  2| 90000|\n",
      "+------+---+---+------+\n",
      "\n"
     ]
    }
   ],
   "source": [
    "data.show()"
   ]
  },
  {
   "cell_type": "code",
   "execution_count": 7,
   "id": "2f7361ba-bb11-4e7a-95d0-27d78ed93859",
   "metadata": {},
   "outputs": [
    {
     "data": {
      "text/plain": [
       "['Name', 'age', 'exp', 'salary']"
      ]
     },
     "execution_count": 7,
     "metadata": {},
     "output_type": "execute_result"
    }
   ],
   "source": [
    "data.columns"
   ]
  },
  {
   "cell_type": "code",
   "execution_count": 9,
   "id": "abfeda49-1d07-4ae9-bb05-43cab9bd4904",
   "metadata": {},
   "outputs": [],
   "source": [
    "from pyspark.ml.feature import VectorAssembler\n",
    "new_feature = VectorAssembler(inputCols=['age', 'exp'], outputCol=\"independentFeature\")"
   ]
  },
  {
   "cell_type": "code",
   "execution_count": 10,
   "id": "c3382d8e-88e9-498d-a7be-4704d7460fd4",
   "metadata": {},
   "outputs": [],
   "source": [
    "output = new_feature.transform(data)"
   ]
  },
  {
   "cell_type": "code",
   "execution_count": 11,
   "id": "fdd1cbf1-c124-4bb0-a5cc-3a0796e69f5c",
   "metadata": {},
   "outputs": [
    {
     "name": "stdout",
     "output_type": "stream",
     "text": [
      "+------+---+---+------+------------------+\n",
      "|  Name|age|exp|salary|independentFeature|\n",
      "+------+---+---+------+------------------+\n",
      "|  Amin| 25|  3|100000|        [25.0,3.0]|\n",
      "|Sajjad| 26|  4|100000|        [26.0,4.0]|\n",
      "|  Zari| 24|  1| 80000|        [24.0,1.0]|\n",
      "|Danial| 24|  4| 85000|        [24.0,4.0]|\n",
      "| Kimia| 25|  2| 90000|        [25.0,2.0]|\n",
      "+------+---+---+------+------------------+\n",
      "\n"
     ]
    }
   ],
   "source": [
    "output.show()"
   ]
  },
  {
   "cell_type": "code",
   "execution_count": 14,
   "id": "517f9eed-8257-404b-b80c-2078ec4f8cac",
   "metadata": {},
   "outputs": [
    {
     "name": "stdout",
     "output_type": "stream",
     "text": [
      "+------+------------------+\n",
      "|salary|independentFeature|\n",
      "+------+------------------+\n",
      "|100000|        [25.0,3.0]|\n",
      "|100000|        [26.0,4.0]|\n",
      "| 80000|        [24.0,1.0]|\n",
      "| 85000|        [24.0,4.0]|\n",
      "| 90000|        [25.0,2.0]|\n",
      "+------+------------------+\n",
      "\n"
     ]
    }
   ],
   "source": [
    "finalized_data = output.select('salary', 'independentFeature')\n",
    "finalized_data.show()"
   ]
  },
  {
   "cell_type": "markdown",
   "id": "bad33193-67e7-4c66-9202-c6d042187aad",
   "metadata": {},
   "source": [
    "## Apply a machine learning framework"
   ]
  },
  {
   "cell_type": "code",
   "execution_count": 15,
   "id": "b824d1ec-2071-4be1-bc2e-58e4adca23fe",
   "metadata": {},
   "outputs": [],
   "source": [
    "from pyspark.ml.regression import LinearRegression"
   ]
  },
  {
   "cell_type": "code",
   "execution_count": 16,
   "id": "76dbdc9a-3622-4fc6-af90-c44e33fdf293",
   "metadata": {},
   "outputs": [],
   "source": [
    "# devide the data set into a train and test\n",
    "\n",
    "train_data, test_data = finalized_data.randomSplit([0.75, 0.25])"
   ]
  },
  {
   "cell_type": "code",
   "execution_count": 17,
   "id": "66d8e02d-2fbc-40e0-93b2-847312c17e3a",
   "metadata": {},
   "outputs": [],
   "source": [
    "regressor = LinearRegression(featuresCol='independentFeature', labelCol='salary')\n",
    "regressor = regressor.fit(train_data)"
   ]
  },
  {
   "cell_type": "code",
   "execution_count": 18,
   "id": "1652d415-e38d-4f53-9756-0e71f61caa5c",
   "metadata": {},
   "outputs": [
    {
     "data": {
      "text/plain": [
       "DenseVector([7500.0, -7500.0])"
      ]
     },
     "execution_count": 18,
     "metadata": {},
     "output_type": "execute_result"
    }
   ],
   "source": [
    "regressor.coefficients"
   ]
  },
  {
   "cell_type": "code",
   "execution_count": 19,
   "id": "4438b21b-fe7b-4a2e-8182-0320be2cd0da",
   "metadata": {},
   "outputs": [
    {
     "data": {
      "text/plain": [
       "-65000.00000005057"
      ]
     },
     "execution_count": 19,
     "metadata": {},
     "output_type": "execute_result"
    }
   ],
   "source": [
    "regressor.intercept"
   ]
  },
  {
   "cell_type": "code",
   "execution_count": 20,
   "id": "675ae56b-ff86-434c-b397-f64d2efaf6f8",
   "metadata": {},
   "outputs": [],
   "source": [
    "pre_results = regressor.evaluate(test_data)"
   ]
  },
  {
   "cell_type": "code",
   "execution_count": 22,
   "id": "bb955aa0-a9c3-4a33-af87-4c507b2b152c",
   "metadata": {},
   "outputs": [
    {
     "name": "stdout",
     "output_type": "stream",
     "text": [
      "+------+------------------+------------------+\n",
      "|salary|independentFeature|        prediction|\n",
      "+------+------------------+------------------+\n",
      "| 80000|        [24.0,1.0]|107499.99999999722|\n",
      "| 90000|        [25.0,2.0]|107499.99999999949|\n",
      "+------+------------------+------------------+\n",
      "\n"
     ]
    }
   ],
   "source": [
    "pre_results.predictions.show()"
   ]
  },
  {
   "cell_type": "code",
   "execution_count": 23,
   "id": "1e62dd36-7cb4-49c3-9f57-4ed35ea9cc78",
   "metadata": {},
   "outputs": [
    {
     "data": {
      "text/plain": [
       "22499.999999998356"
      ]
     },
     "execution_count": 23,
     "metadata": {},
     "output_type": "execute_result"
    }
   ],
   "source": [
    "pre_results.meanAbsoluteError\n"
   ]
  },
  {
   "cell_type": "code",
   "execution_count": null,
   "id": "391aac06-0682-4ff4-82be-c841d7d4bddb",
   "metadata": {},
   "outputs": [],
   "source": []
  }
 ],
 "metadata": {
  "kernelspec": {
   "display_name": "Python 3 (ipykernel)",
   "language": "python",
   "name": "python3"
  },
  "language_info": {
   "codemirror_mode": {
    "name": "ipython",
    "version": 3
   },
   "file_extension": ".py",
   "mimetype": "text/x-python",
   "name": "python",
   "nbconvert_exporter": "python",
   "pygments_lexer": "ipython3",
   "version": "3.10.14"
  }
 },
 "nbformat": 4,
 "nbformat_minor": 5
}
