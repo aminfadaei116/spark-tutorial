{
 "cells": [
  {
   "cell_type": "markdown",
   "id": "0b0a46a5-db48-42fc-aa78-cc2964d4be21",
   "metadata": {},
   "source": [
    "# Pyspark Handling Missing Value\n",
    "- Dropping Columns\n",
    "- Dropping Rows\n",
    "- Various Parameter in Droppoing functionalities\n",
    "- Handling Missing vlaues by Mean, Median, and Mode "
   ]
  },
  {
   "cell_type": "code",
   "execution_count": 1,
   "id": "8de0db7a-cb52-49ed-9834-ec6a22d53a47",
   "metadata": {},
   "outputs": [],
   "source": [
    "import pyspark\n",
    "import pandas as pd\n",
    "from pyspark.sql import SparkSession"
   ]
  },
  {
   "cell_type": "code",
   "execution_count": 2,
   "id": "a60f50de-155f-41f7-a039-e0148a7f88eb",
   "metadata": {},
   "outputs": [],
   "source": [
    "pizza_dataset_path = \"../datasets/pizza_sales/order_details.v2.csv\""
   ]
  },
  {
   "cell_type": "code",
   "execution_count": 3,
   "id": "f61b2e7f-fbac-4659-bb25-3c89e2a85d80",
   "metadata": {},
   "outputs": [
    {
     "data": {
      "text/html": [
       "\n",
       "            <div>\n",
       "                <p><b>SparkSession - in-memory</b></p>\n",
       "                \n",
       "        <div>\n",
       "            <p><b>SparkContext</b></p>\n",
       "\n",
       "            <p><a href=\"http://DESKTOP-1KI60Q1.mshome.net:4040\">Spark UI</a></p>\n",
       "\n",
       "            <dl>\n",
       "              <dt>Version</dt>\n",
       "                <dd><code>v3.5.1</code></dd>\n",
       "              <dt>Master</dt>\n",
       "                <dd><code>local[*]</code></dd>\n",
       "              <dt>AppName</dt>\n",
       "                <dd><code>Learning Spark</code></dd>\n",
       "            </dl>\n",
       "        </div>\n",
       "        \n",
       "            </div>\n",
       "        "
      ],
      "text/plain": [
       "<pyspark.sql.session.SparkSession at 0x21101152740>"
      ]
     },
     "execution_count": 3,
     "metadata": {},
     "output_type": "execute_result"
    }
   ],
   "source": [
    "spark = SparkSession.builder.appName('Learning Spark').getOrCreate()\n",
    "spark"
   ]
  },
  {
   "cell_type": "code",
   "execution_count": 4,
   "id": "1fe159fd-7655-4837-b08a-c3e228bdf1b0",
   "metadata": {},
   "outputs": [],
   "source": [
    "data = spark.read.option('header', 'true').csv(pizza_dataset_path, inferSchema=True)"
   ]
  },
  {
   "cell_type": "markdown",
   "id": "33546a76-8410-45e8-ba7f-5456e85e6ec9",
   "metadata": {},
   "source": [
    "## Dropping Colomn"
   ]
  },
  {
   "cell_type": "code",
   "execution_count": 57,
   "id": "3ef1ece9-e164-49fd-b542-b3384fef4f6a",
   "metadata": {},
   "outputs": [],
   "source": [
    "dropped_colomn_data = data.drop('pizza_id')"
   ]
  },
  {
   "cell_type": "code",
   "execution_count": 58,
   "id": "7e4663b2-f9a0-4db7-a8c7-12285d87118a",
   "metadata": {},
   "outputs": [
    {
     "name": "stdout",
     "output_type": "stream",
     "text": [
      "+----------------+--------+--------+\n",
      "|order_details_id|order_id|quantity|\n",
      "+----------------+--------+--------+\n",
      "|               1|       1|       1|\n",
      "|               2|       2|       1|\n",
      "|            NULL|    NULL|    NULL|\n",
      "|               4|       2|       1|\n",
      "|               5|    NULL|       1|\n",
      "|               6|       2|       1|\n",
      "|            NULL|    NULL|       1|\n",
      "|               8|       3|       1|\n",
      "|               9|       4|       1|\n",
      "|              10|       5|       1|\n",
      "|              11|       6|       1|\n",
      "|              12|       6|       1|\n",
      "|              13|       7|       1|\n",
      "|              14|       8|       1|\n",
      "|              15|       9|       1|\n",
      "|              16|       9|       1|\n",
      "|              17|       9|       1|\n",
      "|              18|    NULL|    NULL|\n",
      "|              19|       9|       1|\n",
      "|              20|       9|       1|\n",
      "+----------------+--------+--------+\n",
      "only showing top 20 rows\n",
      "\n"
     ]
    }
   ],
   "source": [
    "dropped_colomn_data.show()"
   ]
  },
  {
   "cell_type": "markdown",
   "id": "38bf921b-082d-4be6-9a60-1e154315a606",
   "metadata": {},
   "source": [
    "## Dropping Row"
   ]
  },
  {
   "cell_type": "code",
   "execution_count": 52,
   "id": "79ee4ce5-44d5-4ffb-926f-6ccfd4dcd3d3",
   "metadata": {},
   "outputs": [
    {
     "name": "stdout",
     "output_type": "stream",
     "text": [
      "+----------------+--------+--------------+--------+\n",
      "|order_details_id|order_id|      pizza_id|quantity|\n",
      "+----------------+--------+--------------+--------+\n",
      "|               1|       1|    hawaiian_m|       1|\n",
      "|               2|       2| classic_dlx_m|       1|\n",
      "|               4|       2|   ital_supr_l|       1|\n",
      "|               6|       2|    thai_ckn_l|       1|\n",
      "|               8|       3|  prsc_argla_l|       1|\n",
      "|               9|       4|   ital_supr_m|       1|\n",
      "|              10|       5|   ital_supr_m|       1|\n",
      "|              11|       6|     bbq_ckn_s|       1|\n",
      "|              12|       6|   the_greek_s|       1|\n",
      "|              13|       7|spinach_supr_s|       1|\n",
      "|              14|       8|spinach_supr_s|       1|\n",
      "|              15|       9| classic_dlx_s|       1|\n",
      "|              16|       9|green_garden_s|       1|\n",
      "|              17|       9| ital_cpcllo_l|       1|\n",
      "|              19|       9|   ital_supr_s|       1|\n",
      "|              20|       9|    mexicana_s|       1|\n",
      "|              21|       9|  spicy_ital_l|       1|\n",
      "|              22|       9|  spin_pesto_l|       1|\n",
      "|              23|       9|  veggie_veg_s|       1|\n",
      "|              25|      10|  southw_ckn_l|       1|\n",
      "+----------------+--------+--------------+--------+\n",
      "only showing top 20 rows\n",
      "\n"
     ]
    }
   ],
   "source": [
    "data.na.drop().show()"
   ]
  },
  {
   "cell_type": "code",
   "execution_count": 53,
   "id": "c857c35b-26bf-4442-badf-9b7dbc27fa63",
   "metadata": {},
   "outputs": [
    {
     "name": "stdout",
     "output_type": "stream",
     "text": [
      "+----------------+--------+--------------+--------+\n",
      "|order_details_id|order_id|      pizza_id|quantity|\n",
      "+----------------+--------+--------------+--------+\n",
      "|               1|       1|    hawaiian_m|       1|\n",
      "|               2|       2| classic_dlx_m|       1|\n",
      "|               4|       2|   ital_supr_l|       1|\n",
      "|               6|       2|    thai_ckn_l|       1|\n",
      "|               8|       3|  prsc_argla_l|       1|\n",
      "|               9|       4|   ital_supr_m|       1|\n",
      "|              10|       5|   ital_supr_m|       1|\n",
      "|              11|       6|     bbq_ckn_s|       1|\n",
      "|              12|       6|   the_greek_s|       1|\n",
      "|              13|       7|spinach_supr_s|       1|\n",
      "|              14|       8|spinach_supr_s|       1|\n",
      "|              15|       9| classic_dlx_s|       1|\n",
      "|              16|       9|green_garden_s|       1|\n",
      "|              17|       9| ital_cpcllo_l|       1|\n",
      "|              19|       9|   ital_supr_s|       1|\n",
      "|              20|       9|    mexicana_s|       1|\n",
      "|              21|       9|  spicy_ital_l|       1|\n",
      "|              22|       9|  spin_pesto_l|       1|\n",
      "|              23|       9|  veggie_veg_s|       1|\n",
      "|              25|      10|  southw_ckn_l|       1|\n",
      "+----------------+--------+--------------+--------+\n",
      "only showing top 20 rows\n",
      "\n"
     ]
    }
   ],
   "source": [
    "# drop rows that any elements are null\n",
    "data.na.drop(how='any').show()"
   ]
  },
  {
   "cell_type": "code",
   "execution_count": 54,
   "id": "1dbf8219-a50c-4732-adef-3285a0300499",
   "metadata": {},
   "outputs": [
    {
     "name": "stdout",
     "output_type": "stream",
     "text": [
      "+----------------+--------+--------------+--------+\n",
      "|order_details_id|order_id|      pizza_id|quantity|\n",
      "+----------------+--------+--------------+--------+\n",
      "|               1|       1|    hawaiian_m|       1|\n",
      "|               2|       2| classic_dlx_m|       1|\n",
      "|               4|       2|   ital_supr_l|       1|\n",
      "|               5|    NULL|          NULL|       1|\n",
      "|               6|       2|    thai_ckn_l|       1|\n",
      "|            NULL|    NULL|          NULL|       1|\n",
      "|               8|       3|  prsc_argla_l|       1|\n",
      "|               9|       4|   ital_supr_m|       1|\n",
      "|              10|       5|   ital_supr_m|       1|\n",
      "|              11|       6|     bbq_ckn_s|       1|\n",
      "|              12|       6|   the_greek_s|       1|\n",
      "|              13|       7|spinach_supr_s|       1|\n",
      "|              14|       8|spinach_supr_s|       1|\n",
      "|              15|       9| classic_dlx_s|       1|\n",
      "|              16|       9|green_garden_s|       1|\n",
      "|              17|       9| ital_cpcllo_l|       1|\n",
      "|              18|    NULL|   ital_supr_l|    NULL|\n",
      "|              19|       9|   ital_supr_s|       1|\n",
      "|              20|       9|    mexicana_s|       1|\n",
      "|              21|       9|  spicy_ital_l|       1|\n",
      "+----------------+--------+--------------+--------+\n",
      "only showing top 20 rows\n",
      "\n"
     ]
    }
   ],
   "source": [
    "# drop rows that all elements are null\n",
    "data.na.drop(how='all').show()"
   ]
  },
  {
   "cell_type": "markdown",
   "id": "abdf0e98-08e9-4981-a9e5-57408029a951",
   "metadata": {},
   "source": [
    "## Threshold"
   ]
  },
  {
   "cell_type": "code",
   "execution_count": 55,
   "id": "344bd004-627b-46e9-983f-8a1b7a11b88b",
   "metadata": {},
   "outputs": [
    {
     "name": "stdout",
     "output_type": "stream",
     "text": [
      "+----------------+--------+--------------+--------+\n",
      "|order_details_id|order_id|      pizza_id|quantity|\n",
      "+----------------+--------+--------------+--------+\n",
      "|               1|       1|    hawaiian_m|       1|\n",
      "|               2|       2| classic_dlx_m|       1|\n",
      "|               4|       2|   ital_supr_l|       1|\n",
      "|               5|    NULL|          NULL|       1|\n",
      "|               6|       2|    thai_ckn_l|       1|\n",
      "|            NULL|    NULL|          NULL|       1|\n",
      "|               8|       3|  prsc_argla_l|       1|\n",
      "|               9|       4|   ital_supr_m|       1|\n",
      "|              10|       5|   ital_supr_m|       1|\n",
      "|              11|       6|     bbq_ckn_s|       1|\n",
      "|              12|       6|   the_greek_s|       1|\n",
      "|              13|       7|spinach_supr_s|       1|\n",
      "|              14|       8|spinach_supr_s|       1|\n",
      "|              15|       9| classic_dlx_s|       1|\n",
      "|              16|       9|green_garden_s|       1|\n",
      "|              17|       9| ital_cpcllo_l|       1|\n",
      "|              18|    NULL|   ital_supr_l|    NULL|\n",
      "|              19|       9|   ital_supr_s|       1|\n",
      "|              20|       9|    mexicana_s|       1|\n",
      "|              21|       9|  spicy_ital_l|       1|\n",
      "+----------------+--------+--------------+--------+\n",
      "only showing top 20 rows\n",
      "\n"
     ]
    }
   ],
   "source": [
    "# drop the row if it has less or equal to threshold amount of elements\n",
    "data.na.drop(how='any', thresh=1).show()"
   ]
  },
  {
   "cell_type": "markdown",
   "id": "e8adc2ff-9bbd-4627-b751-a2b091b5bd92",
   "metadata": {},
   "source": [
    "## Subset"
   ]
  },
  {
   "cell_type": "code",
   "execution_count": 56,
   "id": "808ead5d-6e68-4a82-b5f4-d392a4c89ce9",
   "metadata": {},
   "outputs": [
    {
     "name": "stdout",
     "output_type": "stream",
     "text": [
      "+----------------+--------+--------------+--------+\n",
      "|order_details_id|order_id|      pizza_id|quantity|\n",
      "+----------------+--------+--------------+--------+\n",
      "|               1|       1|    hawaiian_m|       1|\n",
      "|               2|       2| classic_dlx_m|       1|\n",
      "|               4|       2|   ital_supr_l|       1|\n",
      "|               6|       2|    thai_ckn_l|       1|\n",
      "|               8|       3|  prsc_argla_l|       1|\n",
      "|               9|       4|   ital_supr_m|       1|\n",
      "|              10|       5|   ital_supr_m|       1|\n",
      "|              11|       6|     bbq_ckn_s|       1|\n",
      "|              12|       6|   the_greek_s|       1|\n",
      "|              13|       7|spinach_supr_s|       1|\n",
      "|              14|       8|spinach_supr_s|       1|\n",
      "|              15|       9| classic_dlx_s|       1|\n",
      "|              16|       9|green_garden_s|       1|\n",
      "|              17|       9| ital_cpcllo_l|       1|\n",
      "|              19|       9|   ital_supr_s|       1|\n",
      "|              20|       9|    mexicana_s|       1|\n",
      "|              21|       9|  spicy_ital_l|       1|\n",
      "|              22|       9|  spin_pesto_l|       1|\n",
      "|              23|       9|  veggie_veg_s|       1|\n",
      "|              24|      10|          NULL|       1|\n",
      "+----------------+--------+--------------+--------+\n",
      "only showing top 20 rows\n",
      "\n"
     ]
    }
   ],
   "source": [
    "# drop the row if elements from a specific colomn is missing\n",
    "data.na.drop(how='any', subset=['order_id']).show()"
   ]
  },
  {
   "cell_type": "markdown",
   "id": "e018cfb0-e4a0-4762-86ae-07155dd4a2bc",
   "metadata": {},
   "source": [
    "## Filling Missing value\n",
    "\n",
    " Noticed something interesting, you are only allowed to fill it with the same type, if the type is not the same it will not be replaced, e.g., if I want to replace the NULL with \"Missing Value\" only the string type is going to be replaced, if I want to replace it with -1 all of the number colomns are going to be modified"
   ]
  },
  {
   "cell_type": "code",
   "execution_count": 10,
   "id": "21e2ef5f-4e31-4e80-8974-e90e48ced224",
   "metadata": {},
   "outputs": [
    {
     "name": "stdout",
     "output_type": "stream",
     "text": [
      "+----------------+--------+--------------+--------+\n",
      "|order_details_id|order_id|      pizza_id|quantity|\n",
      "+----------------+--------+--------------+--------+\n",
      "|               1|       1|    hawaiian_m|       1|\n",
      "|               2|       2| classic_dlx_m|       1|\n",
      "|            NULL|    NULL| Missing Value|    NULL|\n",
      "|               4|       2|   ital_supr_l|       1|\n",
      "|               5|    NULL| Missing Value|       1|\n",
      "|               6|       2|    thai_ckn_l|       1|\n",
      "|            NULL|    NULL| Missing Value|       1|\n",
      "|               8|       3|  prsc_argla_l|       1|\n",
      "|               9|       4|   ital_supr_m|       1|\n",
      "|              10|       5|   ital_supr_m|       1|\n",
      "|              11|       6|     bbq_ckn_s|       1|\n",
      "|              12|       6|   the_greek_s|       1|\n",
      "|              13|       7|spinach_supr_s|       1|\n",
      "|              14|       8|spinach_supr_s|       1|\n",
      "|              15|       9| classic_dlx_s|       1|\n",
      "|              16|       9|green_garden_s|       1|\n",
      "|              17|       9| ital_cpcllo_l|       1|\n",
      "|              18|    NULL|   ital_supr_l|    NULL|\n",
      "|              19|       9|   ital_supr_s|       1|\n",
      "|              20|       9|    mexicana_s|       1|\n",
      "+----------------+--------+--------------+--------+\n",
      "only showing top 20 rows\n",
      "\n"
     ]
    }
   ],
   "source": [
    "data.na.fill(\"Missing Value\").show()"
   ]
  },
  {
   "cell_type": "code",
   "execution_count": 11,
   "id": "6ba99901-2cf1-4601-9b8b-f4ac6faa26ac",
   "metadata": {},
   "outputs": [
    {
     "name": "stdout",
     "output_type": "stream",
     "text": [
      "+----------------+--------+--------------+--------+\n",
      "|order_details_id|order_id|      pizza_id|quantity|\n",
      "+----------------+--------+--------------+--------+\n",
      "|               1|       1|    hawaiian_m|       1|\n",
      "|               2|       2| classic_dlx_m|       1|\n",
      "|              -1|      -1|          NULL|      -1|\n",
      "|               4|       2|   ital_supr_l|       1|\n",
      "|               5|      -1|          NULL|       1|\n",
      "|               6|       2|    thai_ckn_l|       1|\n",
      "|              -1|      -1|          NULL|       1|\n",
      "|               8|       3|  prsc_argla_l|       1|\n",
      "|               9|       4|   ital_supr_m|       1|\n",
      "|              10|       5|   ital_supr_m|       1|\n",
      "|              11|       6|     bbq_ckn_s|       1|\n",
      "|              12|       6|   the_greek_s|       1|\n",
      "|              13|       7|spinach_supr_s|       1|\n",
      "|              14|       8|spinach_supr_s|       1|\n",
      "|              15|       9| classic_dlx_s|       1|\n",
      "|              16|       9|green_garden_s|       1|\n",
      "|              17|       9| ital_cpcllo_l|       1|\n",
      "|              18|      -1|   ital_supr_l|      -1|\n",
      "|              19|       9|   ital_supr_s|       1|\n",
      "|              20|       9|    mexicana_s|       1|\n",
      "+----------------+--------+--------------+--------+\n",
      "only showing top 20 rows\n",
      "\n"
     ]
    }
   ],
   "source": [
    "data.na.fill(-1).show()"
   ]
  },
  {
   "cell_type": "code",
   "execution_count": 7,
   "id": "1037a1dd-8d60-46c0-8104-6fff43cf9fec",
   "metadata": {},
   "outputs": [
    {
     "name": "stdout",
     "output_type": "stream",
     "text": [
      "+----------------+--------+--------------+--------+\n",
      "|order_details_id|order_id|      pizza_id|quantity|\n",
      "+----------------+--------+--------------+--------+\n",
      "|               1|       1|    hawaiian_m|       1|\n",
      "|               2|       2| classic_dlx_m|       1|\n",
      "|            NULL|      -1|          NULL|    NULL|\n",
      "|               4|       2|   ital_supr_l|       1|\n",
      "|               5|      -1|          NULL|       1|\n",
      "|               6|       2|    thai_ckn_l|       1|\n",
      "|            NULL|      -1|          NULL|       1|\n",
      "|               8|       3|  prsc_argla_l|       1|\n",
      "|               9|       4|   ital_supr_m|       1|\n",
      "|              10|       5|   ital_supr_m|       1|\n",
      "|              11|       6|     bbq_ckn_s|       1|\n",
      "|              12|       6|   the_greek_s|       1|\n",
      "|              13|       7|spinach_supr_s|       1|\n",
      "|              14|       8|spinach_supr_s|       1|\n",
      "|              15|       9| classic_dlx_s|       1|\n",
      "|              16|       9|green_garden_s|       1|\n",
      "|              17|       9| ital_cpcllo_l|       1|\n",
      "|              18|      -1|   ital_supr_l|    NULL|\n",
      "|              19|       9|   ital_supr_s|       1|\n",
      "|              20|       9|    mexicana_s|       1|\n",
      "+----------------+--------+--------------+--------+\n",
      "only showing top 20 rows\n",
      "\n"
     ]
    }
   ],
   "source": [
    "data.na.fill(-1, subset=['order_id']).show()"
   ]
  },
  {
   "cell_type": "markdown",
   "id": "218a0abd-0dbe-4920-a0c2-1cae5b229654",
   "metadata": {},
   "source": [
    "## Replace the null value with mean or median value"
   ]
  },
  {
   "cell_type": "code",
   "execution_count": 8,
   "id": "f2c41a6f-729a-48b2-9331-c0b4ae65495a",
   "metadata": {},
   "outputs": [],
   "source": [
    "from pyspark.ml.feature import Imputer"
   ]
  },
  {
   "cell_type": "code",
   "execution_count": 14,
   "id": "376f528d-8234-4255-91fc-3331c93dcda6",
   "metadata": {},
   "outputs": [],
   "source": [
    "imputer = Imputer(\n",
    "    inputCols=['order_details_id', 'order_id', 'quantity'],\n",
    "    outputCols=[\"{}_imputed.\".format(c) for c in ['order_details_id', 'order_id', 'quantity']]\n",
    ").setStrategy(\"median\")"
   ]
  },
  {
   "cell_type": "code",
   "execution_count": 15,
   "id": "5b3962e9-565f-418d-9de7-d0ce6cb7b08b",
   "metadata": {},
   "outputs": [
    {
     "name": "stdout",
     "output_type": "stream",
     "text": [
      "+----------------+--------+--------------+--------+-------------------------+-----------------+-----------------+\n",
      "|order_details_id|order_id|      pizza_id|quantity|order_details_id_imputed.|order_id_imputed.|quantity_imputed.|\n",
      "+----------------+--------+--------------+--------+-------------------------+-----------------+-----------------+\n",
      "|               1|       1|    hawaiian_m|       1|                        1|                1|                1|\n",
      "|               2|       2| classic_dlx_m|       1|                        2|                2|                1|\n",
      "|            NULL|    NULL|          NULL|    NULL|                    24284|            10675|                1|\n",
      "|               4|       2|   ital_supr_l|       1|                        4|                2|                1|\n",
      "|               5|    NULL|          NULL|       1|                        5|            10675|                1|\n",
      "|               6|       2|    thai_ckn_l|       1|                        6|                2|                1|\n",
      "|            NULL|    NULL|          NULL|       1|                    24284|            10675|                1|\n",
      "|               8|       3|  prsc_argla_l|       1|                        8|                3|                1|\n",
      "|               9|       4|   ital_supr_m|       1|                        9|                4|                1|\n",
      "|              10|       5|   ital_supr_m|       1|                       10|                5|                1|\n",
      "|              11|       6|     bbq_ckn_s|       1|                       11|                6|                1|\n",
      "|              12|       6|   the_greek_s|       1|                       12|                6|                1|\n",
      "|              13|       7|spinach_supr_s|       1|                       13|                7|                1|\n",
      "|              14|       8|spinach_supr_s|       1|                       14|                8|                1|\n",
      "|              15|       9| classic_dlx_s|       1|                       15|                9|                1|\n",
      "|              16|       9|green_garden_s|       1|                       16|                9|                1|\n",
      "|              17|       9| ital_cpcllo_l|       1|                       17|                9|                1|\n",
      "|              18|    NULL|   ital_supr_l|    NULL|                       18|            10675|                1|\n",
      "|              19|       9|   ital_supr_s|       1|                       19|                9|                1|\n",
      "|              20|       9|    mexicana_s|       1|                       20|                9|                1|\n",
      "+----------------+--------+--------------+--------+-------------------------+-----------------+-----------------+\n",
      "only showing top 20 rows\n",
      "\n"
     ]
    }
   ],
   "source": [
    "imputer.fit(data).transform(data).show()"
   ]
  },
  {
   "cell_type": "code",
   "execution_count": null,
   "id": "78af0cf4-c1ce-4ae1-a17f-ad59de03daa5",
   "metadata": {},
   "outputs": [],
   "source": []
  }
 ],
 "metadata": {
  "kernelspec": {
   "display_name": "Python 3 (ipykernel)",
   "language": "python",
   "name": "python3"
  },
  "language_info": {
   "codemirror_mode": {
    "name": "ipython",
    "version": 3
   },
   "file_extension": ".py",
   "mimetype": "text/x-python",
   "name": "python",
   "nbconvert_exporter": "python",
   "pygments_lexer": "ipython3",
   "version": "3.10.14"
  }
 },
 "nbformat": 4,
 "nbformat_minor": 5
}
